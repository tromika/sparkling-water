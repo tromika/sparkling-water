{
 "cells": [
  {
   "cell_type": "code",
   "execution_count": 1,
   "metadata": {
    "collapsed": true
   },
   "outputs": [],
   "source": [
    "# import packages\n",
    "import h2o\n",
    "import sparkling_water as sw\n",
    "from pyspark import SparkConf, SparkContext"
   ]
  },
  {
   "cell_type": "code",
   "execution_count": 2,
   "metadata": {
    "collapsed": false
   },
   "outputs": [
    {
     "name": "stdout",
     "output_type": "stream",
     "text": [
      "Warning: Version mismatch. H2O is version 3.1.0.99999, but the python package is version 3.0.1.4.\n"
     ]
    },
    {
     "data": {
      "text/html": [
       "<div style=\"overflow:auto\"><table style=\"width:50%\"><tr><td>H2O cluster uptime: </td>\n",
       "<td>1 hours 43 minutes 44 seconds 26 milliseconds </td></tr>\n",
       "<tr><td>H2O cluster version: </td>\n",
       "<td>3.1.0.99999</td></tr>\n",
       "<tr><td>H2O cluster name: </td>\n",
       "<td>sparkling-water-kuba</td></tr>\n",
       "<tr><td>H2O cluster total nodes: </td>\n",
       "<td>1</td></tr>\n",
       "<tr><td>H2O cluster total memory: </td>\n",
       "<td>493.0 MB</td></tr>\n",
       "<tr><td>H2O cluster total cores: </td>\n",
       "<td>4</td></tr>\n",
       "<tr><td>H2O cluster allowed cores: </td>\n",
       "<td>4</td></tr>\n",
       "<tr><td>H2O cluster healthy: </td>\n",
       "<td>True</td></tr>\n",
       "<tr><td>H2O Connection ip: </td>\n",
       "<td>192.168.0.14</td></tr>\n",
       "<tr><td>H2O Connection port: </td>\n",
       "<td>54323</td></tr></table></div>"
      ],
      "text/plain": [
       "--------------------------  ---------------------------------------------\n",
       "H2O cluster uptime:         1 hours 43 minutes 44 seconds 26 milliseconds\n",
       "H2O cluster version:        3.1.0.99999\n",
       "H2O cluster name:           sparkling-water-kuba\n",
       "H2O cluster total nodes:    1\n",
       "H2O cluster total memory:   493.0 MB\n",
       "H2O cluster total cores:    4\n",
       "H2O cluster allowed cores:  4\n",
       "H2O cluster healthy:        True\n",
       "H2O Connection ip:          192.168.0.14\n",
       "H2O Connection port:        54323\n",
       "--------------------------  ---------------------------------------------"
      ]
     },
     "metadata": {},
     "output_type": "display_data"
    }
   ],
   "source": [
    "# create spark context \n",
    "conf = (SparkConf()\n",
    "        .setMaster(\"local\")\n",
    "        .setAppName(\"My app\")\n",
    "        .set(\"spark.executor.memory\", \"512mb\"))\n",
    "sc = SparkContext(conf=conf)\n",
    "\n",
    "# connect to existing h2o cluster\n",
    "ip=\"192.168.0.14\"\n",
    "port=54323\n",
    "h2o.init(ip=ip,port=port)"
   ]
  },
  {
   "cell_type": "code",
   "execution_count": 3,
   "metadata": {
    "collapsed": true
   },
   "outputs": [],
   "source": [
    "# create rdd\n",
    "data = [1, 2, 3, 4, 5]\n",
    "distData = sc.parallelize(data)"
   ]
  },
  {
   "cell_type": "code",
   "execution_count": 4,
   "metadata": {
    "collapsed": false
   },
   "outputs": [
    {
     "ename": "AttributeError",
     "evalue": "'module' object has no attribute 'import_frame_from_rdd'",
     "output_type": "error",
     "traceback": [
      "\u001b[1;31m---------------------------------------------------------------------------\u001b[0m",
      "\u001b[1;31mAttributeError\u001b[0m                            Traceback (most recent call last)",
      "\u001b[1;32m<ipython-input-4-a2af2f3bc92a>\u001b[0m in \u001b[0;36m<module>\u001b[1;34m()\u001b[0m\n\u001b[1;32m----> 1\u001b[1;33m \u001b[0mh2o_frame\u001b[0m \u001b[1;33m=\u001b[0m \u001b[0msparkling_water\u001b[0m\u001b[1;33m.\u001b[0m\u001b[0mimport_frame_from_rdd\u001b[0m\u001b[1;33m(\u001b[0m\u001b[0mdistData\u001b[0m\u001b[1;33m)\u001b[0m\u001b[1;33m\u001b[0m\u001b[0m\n\u001b[0m",
      "\u001b[1;31mAttributeError\u001b[0m: 'module' object has no attribute 'import_frame_from_rdd'"
     ]
    }
   ],
   "source": [
    "h2o_frame = sparkling_water.Utils.import_frame_from_rdd(distData)"
   ]
  },
  {
   "cell_type": "code",
   "execution_count": null,
   "metadata": {
    "collapsed": true
   },
   "outputs": [],
   "source": []
  }
 ],
 "metadata": {
  "kernelspec": {
   "display_name": "Python 2",
   "language": "python",
   "name": "python2"
  },
  "language_info": {
   "codemirror_mode": {
    "name": "ipython",
    "version": 2
   },
   "file_extension": ".py",
   "mimetype": "text/x-python",
   "name": "python",
   "nbconvert_exporter": "python",
   "pygments_lexer": "ipython2",
   "version": "2.7.6"
  }
 },
 "nbformat": 4,
 "nbformat_minor": 0
}
