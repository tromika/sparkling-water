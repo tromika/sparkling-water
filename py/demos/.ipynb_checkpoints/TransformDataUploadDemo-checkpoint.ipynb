{
 "cells": [
  {
   "cell_type": "code",
   "execution_count": 1,
   "metadata": {
    "collapsed": true
   },
   "outputs": [],
   "source": [
    "#import packages\n",
    "import h2o\n",
    "import sparkling_water as sw"
   ]
  },
  {
   "cell_type": "code",
   "execution_count": 2,
   "metadata": {
    "collapsed": false
   },
   "outputs": [
    {
     "name": "stdout",
     "output_type": "stream",
     "text": [
      "Warning: Version mismatch. H2O is version 3.1.0.99999, but the python package is version 3.0.1.4.\n"
     ]
    },
    {
     "data": {
      "text/html": [
       "<div style=\"overflow:auto\"><table style=\"width:50%\"><tr><td>H2O cluster uptime: </td>\n",
       "<td>1 hours 35 minutes 47 seconds 943 milliseconds </td></tr>\n",
       "<tr><td>H2O cluster version: </td>\n",
       "<td>3.1.0.99999</td></tr>\n",
       "<tr><td>H2O cluster name: </td>\n",
       "<td>sparkling-water-kuba</td></tr>\n",
       "<tr><td>H2O cluster total nodes: </td>\n",
       "<td>1</td></tr>\n",
       "<tr><td>H2O cluster total memory: </td>\n",
       "<td>484.5 MB</td></tr>\n",
       "<tr><td>H2O cluster total cores: </td>\n",
       "<td>4</td></tr>\n",
       "<tr><td>H2O cluster allowed cores: </td>\n",
       "<td>4</td></tr>\n",
       "<tr><td>H2O cluster healthy: </td>\n",
       "<td>True</td></tr>\n",
       "<tr><td>H2O Connection ip: </td>\n",
       "<td>192.168.0.14</td></tr>\n",
       "<tr><td>H2O Connection port: </td>\n",
       "<td>54323</td></tr></table></div>"
      ],
      "text/plain": [
       "--------------------------  ----------------------------------------------\n",
       "H2O cluster uptime:         1 hours 35 minutes 47 seconds 943 milliseconds\n",
       "H2O cluster version:        3.1.0.99999\n",
       "H2O cluster name:           sparkling-water-kuba\n",
       "H2O cluster total nodes:    1\n",
       "H2O cluster total memory:   484.5 MB\n",
       "H2O cluster total cores:    4\n",
       "H2O cluster allowed cores:  4\n",
       "H2O cluster healthy:        True\n",
       "H2O Connection ip:          192.168.0.14\n",
       "H2O Connection port:        54323\n",
       "--------------------------  ----------------------------------------------"
      ]
     },
     "metadata": {},
     "output_type": "display_data"
    }
   ],
   "source": [
    "#connect to h2o cluster\n",
    "ip=\"192.168.0.14\"\n",
    "port=54323\n",
    "h2o.init(ip=ip,port=port)"
   ]
  },
  {
   "cell_type": "code",
   "execution_count": 3,
   "metadata": {
    "collapsed": false
   },
   "outputs": [
    {
     "name": "stdout",
     "output_type": "stream",
     "text": [
      "\n",
      "Parse Progress: [##################################################] 100%\n",
      "Imported /home/kuba/devel-h2o/sparkling-water/./examples/smalldata/prostate.csv. Parsed 380 rows and 9 cols\n"
     ]
    }
   ],
   "source": [
    "# Upload data to the H2O cluster and obtained its representation as H2OFrame\n",
    "data = h2o.import_frame(path=h2o.locate(\"./examples/smalldata/prostate.csv\"))"
   ]
  },
  {
   "cell_type": "code",
   "execution_count": 4,
   "metadata": {
    "collapsed": false
   },
   "outputs": [
    {
     "name": "stdout",
     "output_type": "stream",
     "text": [
      "Rows: 380 Cols: 9\n",
      "\n",
      "Chunk compression summary:\n",
      "\n"
     ]
    },
    {
     "data": {
      "text/html": [
       "<div style=\"overflow:auto\"><table style=\"width:50%\"><tr><td>chunk_type</td>\n",
       "<td>chunk_name</td>\n",
       "<td>count</td>\n",
       "<td>count_percentage</td>\n",
       "<td>size</td>\n",
       "<td>size_percentage</td></tr>\n",
       "<tr><td>CBS</td>\n",
       "<td>Bits</td>\n",
       "<td>1</td>\n",
       "<td>11.111112</td>\n",
       "<td>    118  B</td>\n",
       "<td>2.4210093</td></tr>\n",
       "<tr><td>C1N</td>\n",
       "<td>1-Byte Integers (w/o NAs)</td>\n",
       "<td>5</td>\n",
       "<td>55.555557</td>\n",
       "<td>    2.2 KB</td>\n",
       "<td>45.958145</td></tr>\n",
       "<tr><td>C2</td>\n",
       "<td>2-Byte Integers</td>\n",
       "<td>1</td>\n",
       "<td>11.111112</td>\n",
       "<td>    828  B</td>\n",
       "<td>16.9881</td></tr>\n",
       "<tr><td>C2S</td>\n",
       "<td>2-Byte Fractions</td>\n",
       "<td>2</td>\n",
       "<td>22.222223</td>\n",
       "<td>    1.6 KB</td>\n",
       "<td>34.632744</td></tr></table></div>"
      ],
      "text/plain": [
       "chunk_type    chunk_name                 count    count_percentage    size    size_percentage\n",
       "------------  -------------------------  -------  ------------------  ------  -----------------\n",
       "CBS           Bits                       1        11.1111             118  B  2.42101\n",
       "C1N           1-Byte Integers (w/o NAs)  5        55.5556             2.2 KB  45.9581\n",
       "C2            2-Byte Integers            1        11.1111             828  B  16.9881\n",
       "C2S           2-Byte Fractions           2        22.2222             1.6 KB  34.6327"
      ]
     },
     "metadata": {},
     "output_type": "display_data"
    },
    {
     "name": "stdout",
     "output_type": "stream",
     "text": [
      "\n",
      "Frame distribution summary:\n",
      "\n"
     ]
    },
    {
     "data": {
      "text/html": [
       "<div style=\"overflow:auto\"><table style=\"width:50%\"><tr><td></td>\n",
       "<td>size</td>\n",
       "<td>number_of_rows</td>\n",
       "<td>number_of_chunks_per_column</td>\n",
       "<td>number_of_chunks</td></tr>\n",
       "<tr><td>192.168.0.14:54321</td>\n",
       "<td>    4.8 KB</td>\n",
       "<td>380.0</td>\n",
       "<td>1.0</td>\n",
       "<td>9.0</td></tr>\n",
       "<tr><td>mean</td>\n",
       "<td>    4.8 KB</td>\n",
       "<td>380.0</td>\n",
       "<td>1.0</td>\n",
       "<td>9.0</td></tr>\n",
       "<tr><td>min</td>\n",
       "<td>    4.8 KB</td>\n",
       "<td>380.0</td>\n",
       "<td>1.0</td>\n",
       "<td>9.0</td></tr>\n",
       "<tr><td>max</td>\n",
       "<td>    4.8 KB</td>\n",
       "<td>380.0</td>\n",
       "<td>1.0</td>\n",
       "<td>9.0</td></tr>\n",
       "<tr><td>stddev</td>\n",
       "<td>      0  B</td>\n",
       "<td>0.0</td>\n",
       "<td>0.0</td>\n",
       "<td>0.0</td></tr>\n",
       "<tr><td>total</td>\n",
       "<td>    4.8 KB</td>\n",
       "<td>380.0</td>\n",
       "<td>1.0</td>\n",
       "<td>9.0</td></tr></table></div>"
      ],
      "text/plain": [
       "                    size    number_of_rows    number_of_chunks_per_column    number_of_chunks\n",
       "------------------  ------  ----------------  -----------------------------  ------------------\n",
       "192.168.0.14:54321  4.8 KB  380               1                              9\n",
       "mean                4.8 KB  380               1                              9\n",
       "min                 4.8 KB  380               1                              9\n",
       "max                 4.8 KB  380               1                              9\n",
       "stddev              0  B    0                 0                              0\n",
       "total               4.8 KB  380               1                              9"
      ]
     },
     "metadata": {},
     "output_type": "display_data"
    },
    {
     "name": "stdout",
     "output_type": "stream",
     "text": [
      "\n",
      "Column-by-Column Summary:\n",
      "\n"
     ]
    },
    {
     "data": {
      "text/html": [
       "<div style=\"overflow:auto\"><table style=\"width:50%\"><tr><td></td>\n",
       "<td>ID</td>\n",
       "<td>CAPSULE</td>\n",
       "<td>AGE</td>\n",
       "<td>RACE</td>\n",
       "<td>DPROS</td>\n",
       "<td>DCAPS</td>\n",
       "<td>PSA</td>\n",
       "<td>VOL</td>\n",
       "<td>GLEASON</td></tr>\n",
       "<tr><td>type</td>\n",
       "<td>int</td>\n",
       "<td>int</td>\n",
       "<td>int</td>\n",
       "<td>int</td>\n",
       "<td>int</td>\n",
       "<td>int</td>\n",
       "<td>real</td>\n",
       "<td>real</td>\n",
       "<td>int</td></tr>\n",
       "<tr><td>mins</td>\n",
       "<td>1.0</td>\n",
       "<td>0.0</td>\n",
       "<td>43.0</td>\n",
       "<td>0.0</td>\n",
       "<td>1.0</td>\n",
       "<td>1.0</td>\n",
       "<td>0.3</td>\n",
       "<td>0.0</td>\n",
       "<td>0.0</td></tr>\n",
       "<tr><td>maxs</td>\n",
       "<td>380.0</td>\n",
       "<td>1.0</td>\n",
       "<td>79.0</td>\n",
       "<td>2.0</td>\n",
       "<td>4.0</td>\n",
       "<td>2.0</td>\n",
       "<td>139.7</td>\n",
       "<td>97.6</td>\n",
       "<td>9.0</td></tr>\n",
       "<tr><td>sigma</td>\n",
       "<td>109.840793879</td>\n",
       "<td>0.491074338963</td>\n",
       "<td>6.52707126917</td>\n",
       "<td>0.308773258025</td>\n",
       "<td>1.00010761815</td>\n",
       "<td>0.310656449351</td>\n",
       "<td>19.9975726686</td>\n",
       "<td>18.3476199673</td>\n",
       "<td>1.09195337443</td></tr>\n",
       "<tr><td>zero_count</td>\n",
       "<td>0</td>\n",
       "<td>227</td>\n",
       "<td>0</td>\n",
       "<td>3</td>\n",
       "<td>0</td>\n",
       "<td>0</td>\n",
       "<td>0</td>\n",
       "<td>167</td>\n",
       "<td>2</td></tr>\n",
       "<tr><td>missing_count</td>\n",
       "<td>0</td>\n",
       "<td>0</td>\n",
       "<td>0</td>\n",
       "<td>0</td>\n",
       "<td>0</td>\n",
       "<td>0</td>\n",
       "<td>0</td>\n",
       "<td>0</td>\n",
       "<td>0</td></tr></table></div>"
      ],
      "text/plain": [
       "               ID             CAPSULE         AGE            RACE            DPROS          DCAPS           PSA            VOL            GLEASON\n",
       "-------------  -------------  --------------  -------------  --------------  -------------  --------------  -------------  -------------  -------------\n",
       "type           int            int             int            int             int            int             real           real           int\n",
       "mins           1.0            0.0             43.0           0.0             1.0            1.0             0.3            0.0            0.0\n",
       "maxs           380.0          1.0             79.0           2.0             4.0            2.0             139.7          97.6           9.0\n",
       "sigma          109.840793879  0.491074338963  6.52707126917  0.308773258025  1.00010761815  0.310656449351  19.9975726686  18.3476199673  1.09195337443\n",
       "zero_count     0              227             0              3               0              0               0              167            2\n",
       "missing_count  0              0               0              0               0              0               0              0              0"
      ]
     },
     "metadata": {},
     "output_type": "display_data"
    }
   ],
   "source": [
    "# Print info about h2o frame\n",
    "data.describe()"
   ]
  },
  {
   "cell_type": "code",
   "execution_count": 5,
   "metadata": {
    "collapsed": true
   },
   "outputs": [],
   "source": [
    "# Remove ID from training frame\n",
    "train = data.drop(\"ID\")"
   ]
  },
  {
   "cell_type": "code",
   "execution_count": 6,
   "metadata": {
    "collapsed": true
   },
   "outputs": [],
   "source": [
    "# For VOL & GLEASON, a zero really means \"missing\"\n",
    "vol = train['VOL']\n",
    "vol[vol == 0] = None\n",
    "gle = train['GLEASON']\n",
    "gle[gle == 0] = None"
   ]
  },
  {
   "cell_type": "code",
   "execution_count": 7,
   "metadata": {
    "collapsed": true
   },
   "outputs": [],
   "source": [
    "# Convert CAPSULE to a logical factor\n",
    "train['CAPSULE'] = train['CAPSULE'].asfactor()"
   ]
  },
  {
   "cell_type": "code",
   "execution_count": 8,
   "metadata": {
    "collapsed": false
   },
   "outputs": [
    {
     "name": "stdout",
     "output_type": "stream",
     "text": [
      "Rows: 380 Cols: 8\n",
      "\n",
      "Chunk compression summary:\n",
      "\n"
     ]
    },
    {
     "data": {
      "text/html": [
       "<div style=\"overflow:auto\"><table style=\"width:50%\"><tr><td>chunk_type</td>\n",
       "<td>chunk_name</td>\n",
       "<td>count</td>\n",
       "<td>count_percentage</td>\n",
       "<td>size</td>\n",
       "<td>size_percentage</td></tr>\n",
       "<tr><td>CBS</td>\n",
       "<td>Bits</td>\n",
       "<td>1</td>\n",
       "<td>12.5</td>\n",
       "<td>    118  B</td>\n",
       "<td>1.3762538</td></tr>\n",
       "<tr><td>C1N</td>\n",
       "<td>1-Byte Integers (w/o NAs)</td>\n",
       "<td>5</td>\n",
       "<td>62.5</td>\n",
       "<td>    2.2 KB</td>\n",
       "<td>26.125496</td></tr>\n",
       "<tr><td>C8D</td>\n",
       "<td>64-bit Reals</td>\n",
       "<td>2</td>\n",
       "<td>25.0</td>\n",
       "<td>    6.1 KB</td>\n",
       "<td>72.49825</td></tr></table></div>"
      ],
      "text/plain": [
       "chunk_type    chunk_name                 count    count_percentage    size    size_percentage\n",
       "------------  -------------------------  -------  ------------------  ------  -----------------\n",
       "CBS           Bits                       1        12.5                118  B  1.37625\n",
       "C1N           1-Byte Integers (w/o NAs)  5        62.5                2.2 KB  26.1255\n",
       "C8D           64-bit Reals               2        25                  6.1 KB  72.4982"
      ]
     },
     "metadata": {},
     "output_type": "display_data"
    },
    {
     "name": "stdout",
     "output_type": "stream",
     "text": [
      "\n",
      "Frame distribution summary:\n",
      "\n"
     ]
    },
    {
     "data": {
      "text/html": [
       "<div style=\"overflow:auto\"><table style=\"width:50%\"><tr><td></td>\n",
       "<td>size</td>\n",
       "<td>number_of_rows</td>\n",
       "<td>number_of_chunks_per_column</td>\n",
       "<td>number_of_chunks</td></tr>\n",
       "<tr><td>192.168.0.14:54321</td>\n",
       "<td>    8.4 KB</td>\n",
       "<td>380.0</td>\n",
       "<td>1.0</td>\n",
       "<td>8.0</td></tr>\n",
       "<tr><td>mean</td>\n",
       "<td>    8.4 KB</td>\n",
       "<td>380.0</td>\n",
       "<td>1.0</td>\n",
       "<td>8.0</td></tr>\n",
       "<tr><td>min</td>\n",
       "<td>    8.4 KB</td>\n",
       "<td>380.0</td>\n",
       "<td>1.0</td>\n",
       "<td>8.0</td></tr>\n",
       "<tr><td>max</td>\n",
       "<td>    8.4 KB</td>\n",
       "<td>380.0</td>\n",
       "<td>1.0</td>\n",
       "<td>8.0</td></tr>\n",
       "<tr><td>stddev</td>\n",
       "<td>      0  B</td>\n",
       "<td>0.0</td>\n",
       "<td>0.0</td>\n",
       "<td>0.0</td></tr>\n",
       "<tr><td>total</td>\n",
       "<td>    8.4 KB</td>\n",
       "<td>380.0</td>\n",
       "<td>1.0</td>\n",
       "<td>8.0</td></tr></table></div>"
      ],
      "text/plain": [
       "                    size    number_of_rows    number_of_chunks_per_column    number_of_chunks\n",
       "------------------  ------  ----------------  -----------------------------  ------------------\n",
       "192.168.0.14:54321  8.4 KB  380               1                              8\n",
       "mean                8.4 KB  380               1                              8\n",
       "min                 8.4 KB  380               1                              8\n",
       "max                 8.4 KB  380               1                              8\n",
       "stddev              0  B    0                 0                              0\n",
       "total               8.4 KB  380               1                              8"
      ]
     },
     "metadata": {},
     "output_type": "display_data"
    },
    {
     "name": "stdout",
     "output_type": "stream",
     "text": [
      "\n",
      "Column-by-Column Summary:\n",
      "\n"
     ]
    },
    {
     "data": {
      "text/html": [
       "<div style=\"overflow:auto\"><table style=\"width:50%\"><tr><td></td>\n",
       "<td>CAPSULE</td>\n",
       "<td>AGE</td>\n",
       "<td>RACE</td>\n",
       "<td>DPROS</td>\n",
       "<td>DCAPS</td>\n",
       "<td>PSA</td>\n",
       "<td>VOL</td>\n",
       "<td>GLEASON</td></tr>\n",
       "<tr><td>type</td>\n",
       "<td>enum</td>\n",
       "<td>int</td>\n",
       "<td>int</td>\n",
       "<td>int</td>\n",
       "<td>int</td>\n",
       "<td>real</td>\n",
       "<td>real</td>\n",
       "<td>int</td></tr>\n",
       "<tr><td>mins</td>\n",
       "<td>0.0</td>\n",
       "<td>43.0</td>\n",
       "<td>0.0</td>\n",
       "<td>1.0</td>\n",
       "<td>1.0</td>\n",
       "<td>0.3</td>\n",
       "<td>0.0</td>\n",
       "<td>0.0</td></tr>\n",
       "<tr><td>maxs</td>\n",
       "<td>1.0</td>\n",
       "<td>79.0</td>\n",
       "<td>2.0</td>\n",
       "<td>4.0</td>\n",
       "<td>2.0</td>\n",
       "<td>139.7</td>\n",
       "<td>97.6</td>\n",
       "<td>9.0</td></tr>\n",
       "<tr><td>sigma</td>\n",
       "<td>0.491074338963</td>\n",
       "<td>6.52707126917</td>\n",
       "<td>0.308773258025</td>\n",
       "<td>1.00010761815</td>\n",
       "<td>0.310656449351</td>\n",
       "<td>19.9975726686</td>\n",
       "<td>18.3476199673</td>\n",
       "<td>1.09195337443</td></tr>\n",
       "<tr><td>zero_count</td>\n",
       "<td>227</td>\n",
       "<td>0</td>\n",
       "<td>3</td>\n",
       "<td>0</td>\n",
       "<td>0</td>\n",
       "<td>0</td>\n",
       "<td>167</td>\n",
       "<td>2</td></tr>\n",
       "<tr><td>missing_count</td>\n",
       "<td>0</td>\n",
       "<td>0</td>\n",
       "<td>0</td>\n",
       "<td>0</td>\n",
       "<td>0</td>\n",
       "<td>0</td>\n",
       "<td>0</td>\n",
       "<td>0</td></tr></table></div>"
      ],
      "text/plain": [
       "               CAPSULE         AGE            RACE            DPROS          DCAPS           PSA            VOL            GLEASON\n",
       "-------------  --------------  -------------  --------------  -------------  --------------  -------------  -------------  -------------\n",
       "type           enum            int            int             int            int             real           real           int\n",
       "mins           0.0             43.0           0.0             1.0            1.0             0.3            0.0            0.0\n",
       "maxs           1.0             79.0           2.0             4.0            2.0             139.7          97.6           9.0\n",
       "sigma          0.491074338963  6.52707126917  0.308773258025  1.00010761815  0.310656449351  19.9975726686  18.3476199673  1.09195337443\n",
       "zero_count     227             0              3               0              0               0              167            2\n",
       "missing_count  0               0              0               0              0               0              0              0"
      ]
     },
     "metadata": {},
     "output_type": "display_data"
    }
   ],
   "source": [
    "# See that the data is ready\n",
    "train.describe()"
   ]
  },
  {
   "cell_type": "code",
   "execution_count": 9,
   "metadata": {
    "collapsed": false
   },
   "outputs": [],
   "source": [
    "# Transform H2OFrame back to DataFrame\n",
    "dataframe = sw.Utils.h2oframe_2_dataframe(train)"
   ]
  },
  {
   "cell_type": "code",
   "execution_count": 10,
   "metadata": {
    "collapsed": false
   },
   "outputs": [
    {
     "data": {
      "text/plain": [
       "StructType(List(StructField(CAPSULE,StringType,false),StructField(AGE,ByteType,false),StructField(RACE,ByteType,false),StructField(DPROS,ByteType,false),StructField(DCAPS,ByteType,false),StructField(PSA,DoubleType,false),StructField(VOL,DoubleType,false),StructField(GLEASON,ByteType,false)))"
      ]
     },
     "execution_count": 10,
     "metadata": {},
     "output_type": "execute_result"
    }
   ],
   "source": [
    "# Get the dataframe's schema\n",
    "dataframe.get_schema()"
   ]
  },
  {
   "cell_type": "code",
   "execution_count": 11,
   "metadata": {
    "collapsed": false
   },
   "outputs": [
    {
     "data": {
      "text/plain": [
       "[u'CAPSULE', u'AGE', u'RACE', u'DPROS', u'DCAPS', u'PSA', u'VOL', u'GLEASON']"
      ]
     },
     "execution_count": 11,
     "metadata": {},
     "output_type": "execute_result"
    }
   ],
   "source": [
    "# Get only dataframe's columns\n",
    "dataframe.get_fields()"
   ]
  },
  {
   "cell_type": "code",
   "execution_count": 16,
   "metadata": {
    "collapsed": false
   },
   "outputs": [],
   "source": [
    "# Download the content of Spark's DataFrame to file named data\n",
    "import os\n",
    "home = expanduser(\"~\")\n",
    "filename =home + os.path.sep + \"downloaded_dataset\"\n",
    "dataframe.download(filename)"
   ]
  },
  {
   "cell_type": "code",
   "execution_count": null,
   "metadata": {
    "collapsed": true
   },
   "outputs": [],
   "source": []
  }
 ],
 "metadata": {
  "kernelspec": {
   "display_name": "Python 2",
   "language": "python",
   "name": "python2"
  },
  "language_info": {
   "codemirror_mode": {
    "name": "ipython",
    "version": 2
   },
   "file_extension": ".py",
   "mimetype": "text/x-python",
   "name": "python",
   "nbconvert_exporter": "python",
   "pygments_lexer": "ipython2",
   "version": "2.7.6"
  }
 },
 "nbformat": 4,
 "nbformat_minor": 0
}
