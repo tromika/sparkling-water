{
 "cells": [
  {
   "cell_type": "code",
   "execution_count": 1,
   "metadata": {
    "collapsed": true
   },
   "outputs": [],
   "source": [
    "# import packages\n",
    "import h2o, os.path\n",
    "import sparkling_water as sw\n",
    "from pyspark import SparkConf, SparkContext"
   ]
  },
  {
   "cell_type": "code",
   "execution_count": 2,
   "metadata": {
    "collapsed": false
   },
   "outputs": [],
   "source": [
    "# create spark context \n",
    "conf = (SparkConf()\n",
    "        .setMaster(\"local\")\n",
    "        .setAppName(\"My app\")\n",
    "        .set(\"spark.executor.memory\", \"512mb\"))\n",
    "sc = SparkContext(conf=conf)\n"
   ]
  },
  {
   "cell_type": "code",
   "execution_count": 3,
   "metadata": {
    "collapsed": false
   },
   "outputs": [
    {
     "name": "stdout",
     "output_type": "stream",
     "text": [
      "Warning: Version mismatch. H2O is version 3.1.0.3118, but the python package is version 3.0.1.4.\n"
     ]
    },
    {
     "data": {
      "text/html": [
       "<div style=\"overflow:auto\"><table style=\"width:50%\"><tr><td>H2O cluster uptime: </td>\n",
       "<td>3 hours 18 minutes 42 seconds 8 milliseconds </td></tr>\n",
       "<tr><td>H2O cluster version: </td>\n",
       "<td>3.1.0.3118</td></tr>\n",
       "<tr><td>H2O cluster name: </td>\n",
       "<td>sparkling-water-kuba</td></tr>\n",
       "<tr><td>H2O cluster total nodes: </td>\n",
       "<td>1</td></tr>\n",
       "<tr><td>H2O cluster total memory: </td>\n",
       "<td>466.5 MB</td></tr>\n",
       "<tr><td>H2O cluster total cores: </td>\n",
       "<td>4</td></tr>\n",
       "<tr><td>H2O cluster allowed cores: </td>\n",
       "<td>4</td></tr>\n",
       "<tr><td>H2O cluster healthy: </td>\n",
       "<td>True</td></tr>\n",
       "<tr><td>H2O Connection ip: </td>\n",
       "<td>192.168.0.14</td></tr>\n",
       "<tr><td>H2O Connection port: </td>\n",
       "<td>54323</td></tr></table></div>"
      ],
      "text/plain": [
       "--------------------------  --------------------------------------------\n",
       "H2O cluster uptime:         3 hours 18 minutes 42 seconds 8 milliseconds\n",
       "H2O cluster version:        3.1.0.3118\n",
       "H2O cluster name:           sparkling-water-kuba\n",
       "H2O cluster total nodes:    1\n",
       "H2O cluster total memory:   466.5 MB\n",
       "H2O cluster total cores:    4\n",
       "H2O cluster allowed cores:  4\n",
       "H2O cluster healthy:        True\n",
       "H2O Connection ip:          192.168.0.14\n",
       "H2O Connection port:        54323\n",
       "--------------------------  --------------------------------------------"
      ]
     },
     "metadata": {},
     "output_type": "display_data"
    }
   ],
   "source": [
    "# connect to existing h2o cluster\n",
    "ip=\"192.168.0.14\"\n",
    "port=54323\n",
    "h2o.init(ip=ip,port=port)"
   ]
  },
  {
   "cell_type": "code",
   "execution_count": 4,
   "metadata": {
    "collapsed": true
   },
   "outputs": [],
   "source": [
    "# create rdd\n",
    "data = [1, 2, 3, 4, 5]\n",
    "distData = sc.parallelize(data)"
   ]
  },
  {
   "cell_type": "code",
   "execution_count": 5,
   "metadata": {
    "collapsed": false
   },
   "outputs": [
    {
     "name": "stdout",
     "output_type": "stream",
     "text": [
      "\n",
      "Parse Progress: [##################################################] 100%\n",
      "Uploaded pyf2fba1d8-ccd5-4d31-9981-67d355a4b10d into cluster with 5 rows and 1 cols\n"
     ]
    }
   ],
   "source": [
    "#Upload frame from RDD\n",
    "h2o_frame = sw.Utils.upload_frame_from_rdd(distData)\n",
    "\n"
   ]
  },
  {
   "cell_type": "code",
   "execution_count": 6,
   "metadata": {
    "collapsed": false
   },
   "outputs": [
    {
     "name": "stdout",
     "output_type": "stream",
     "text": [
      "Rows: 5 Cols: 1\n",
      "\n",
      "Chunk compression summary:\n",
      "\n"
     ]
    },
    {
     "data": {
      "text/html": [
       "<div style=\"overflow:auto\"><table style=\"width:50%\"><tr><td>chunk_type</td>\n",
       "<td>chunk_name</td>\n",
       "<td>count</td>\n",
       "<td>count_percentage</td>\n",
       "<td>size</td>\n",
       "<td>size_percentage</td></tr>\n",
       "<tr><td>C1N</td>\n",
       "<td>1-Byte Integers (w/o NAs)</td>\n",
       "<td>1</td>\n",
       "<td>100.0</td>\n",
       "<td>     73  B</td>\n",
       "<td>100.0</td></tr></table></div>"
      ],
      "text/plain": [
       "chunk_type    chunk_name                 count    count_percentage    size    size_percentage\n",
       "------------  -------------------------  -------  ------------------  ------  -----------------\n",
       "C1N           1-Byte Integers (w/o NAs)  1        100                 73  B   100"
      ]
     },
     "metadata": {},
     "output_type": "display_data"
    },
    {
     "name": "stdout",
     "output_type": "stream",
     "text": [
      "\n",
      "Frame distribution summary:\n",
      "\n"
     ]
    },
    {
     "data": {
      "text/html": [
       "<div style=\"overflow:auto\"><table style=\"width:50%\"><tr><td></td>\n",
       "<td>size</td>\n",
       "<td>number_of_rows</td>\n",
       "<td>number_of_chunks_per_column</td>\n",
       "<td>number_of_chunks</td></tr>\n",
       "<tr><td>192.168.0.14:54321</td>\n",
       "<td>     73  B</td>\n",
       "<td>5.0</td>\n",
       "<td>1.0</td>\n",
       "<td>1.0</td></tr>\n",
       "<tr><td>mean</td>\n",
       "<td>     73  B</td>\n",
       "<td>5.0</td>\n",
       "<td>1.0</td>\n",
       "<td>1.0</td></tr>\n",
       "<tr><td>min</td>\n",
       "<td>     73  B</td>\n",
       "<td>5.0</td>\n",
       "<td>1.0</td>\n",
       "<td>1.0</td></tr>\n",
       "<tr><td>max</td>\n",
       "<td>     73  B</td>\n",
       "<td>5.0</td>\n",
       "<td>1.0</td>\n",
       "<td>1.0</td></tr>\n",
       "<tr><td>stddev</td>\n",
       "<td>      0  B</td>\n",
       "<td>0.0</td>\n",
       "<td>0.0</td>\n",
       "<td>0.0</td></tr>\n",
       "<tr><td>total</td>\n",
       "<td>     73  B</td>\n",
       "<td>5.0</td>\n",
       "<td>1.0</td>\n",
       "<td>1.0</td></tr></table></div>"
      ],
      "text/plain": [
       "                    size    number_of_rows    number_of_chunks_per_column    number_of_chunks\n",
       "------------------  ------  ----------------  -----------------------------  ------------------\n",
       "192.168.0.14:54321  73  B   5                 1                              1\n",
       "mean                73  B   5                 1                              1\n",
       "min                 73  B   5                 1                              1\n",
       "max                 73  B   5                 1                              1\n",
       "stddev              0  B    0                 0                              0\n",
       "total               73  B   5                 1                              1"
      ]
     },
     "metadata": {},
     "output_type": "display_data"
    },
    {
     "name": "stdout",
     "output_type": "stream",
     "text": [
      "\n",
      "Column-by-Column Summary:\n",
      "\n"
     ]
    },
    {
     "data": {
      "text/html": [
       "<div style=\"overflow:auto\"><table style=\"width:50%\"><tr><td></td>\n",
       "<td>C1</td></tr>\n",
       "<tr><td>type</td>\n",
       "<td>int</td></tr>\n",
       "<tr><td>mins</td>\n",
       "<td>1.0</td></tr>\n",
       "<tr><td>maxs</td>\n",
       "<td>5.0</td></tr>\n",
       "<tr><td>sigma</td>\n",
       "<td>1.58113883008</td></tr>\n",
       "<tr><td>zero_count</td>\n",
       "<td>0</td></tr>\n",
       "<tr><td>missing_count</td>\n",
       "<td>0</td></tr></table></div>"
      ],
      "text/plain": [
       "               C1\n",
       "-------------  -------------\n",
       "type           int\n",
       "mins           1.0\n",
       "maxs           5.0\n",
       "sigma          1.58113883008\n",
       "zero_count     0\n",
       "missing_count  0"
      ]
     },
     "metadata": {},
     "output_type": "display_data"
    }
   ],
   "source": [
    "h2o_frame.describe()"
   ]
  },
  {
   "cell_type": "code",
   "execution_count": 7,
   "metadata": {
    "collapsed": true
   },
   "outputs": [],
   "source": [
    "# Download the dataset\n",
    "home = os.path.expanduser(\"~\")\n",
    "filename =home + os.path.sep + \"downloaded_dataset\"\n",
    "h2o.download_csv(h2o_frame,filename)"
   ]
  },
  {
   "cell_type": "code",
   "execution_count": null,
   "metadata": {
    "collapsed": true
   },
   "outputs": [],
   "source": []
  }
 ],
 "metadata": {
  "kernelspec": {
   "display_name": "Python 2",
   "language": "python",
   "name": "python2"
  },
  "language_info": {
   "codemirror_mode": {
    "name": "ipython",
    "version": 2
   },
   "file_extension": ".py",
   "mimetype": "text/x-python",
   "name": "python",
   "nbconvert_exporter": "python",
   "pygments_lexer": "ipython2",
   "version": "2.7.6"
  }
 },
 "nbformat": 4,
 "nbformat_minor": 0
}
